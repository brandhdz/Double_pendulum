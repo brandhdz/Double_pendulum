{
 "cells": [
  {
   "cell_type": "markdown",
   "id": "9afce961",
   "metadata": {},
   "source": [
    "# Double pendulum"
   ]
  },
  {
   "cell_type": "markdown",
   "id": "51d5edca",
   "metadata": {},
   "source": [
    "We are going to solve the double pendulum using symbolic calculus and we'll make and animation of the solution."
   ]
  },
  {
   "cell_type": "markdown",
   "id": "b1722cd0",
   "metadata": {},
   "source": [
    "# 0. Import libraries"
   ]
  },
  {
   "cell_type": "code",
   "execution_count": 36,
   "id": "9a666f67",
   "metadata": {},
   "outputs": [],
   "source": [
    "import sympy as smp\n",
    "import scipy as sp\n",
    "from scipy.integrate import odeint\n",
    "import numpy as np\n",
    "import matplotlib.pyplot as plt\n",
    "from matplotlib import animation\n",
    "from matplotlib.animation import PillowWriter\n",
    "plt.style.use(\"ggplot\")"
   ]
  },
  {
   "cell_type": "markdown",
   "id": "1bd45b98",
   "metadata": {},
   "source": [
    "# 1. Variable definitions"
   ]
  },
  {
   "cell_type": "markdown",
   "id": "fe95773b",
   "metadata": {},
   "source": [
    "### Generalized coordinates"
   ]
  },
  {
   "cell_type": "code",
   "execution_count": 9,
   "id": "a6543f3c",
   "metadata": {},
   "outputs": [],
   "source": [
    "t, R1, R2, g, m1, m2 = smp.symbols('t R_1 R_2 g m_1 m_2') \n",
    "theta1, theta2 = smp.symbols(r'\\theta_1 \\theta_2', cls = smp.Function)\n",
    "\n",
    "theta1 = theta1(t)\n",
    "theta2 = theta2(t)"
   ]
  },
  {
   "cell_type": "markdown",
   "id": "596f2514",
   "metadata": {},
   "source": [
    "### Pendulum positions"
   ]
  },
  {
   "cell_type": "code",
   "execution_count": 10,
   "id": "138bc5bd",
   "metadata": {},
   "outputs": [],
   "source": [
    "x1 = R1 * smp.sin(theta1)\n",
    "y1 = - R1 * smp.cos(theta1) \n",
    "\n",
    "x2 = x1 + R2 * smp.sin(theta2) \n",
    "y2 = y1 - R2 * smp.cos(theta2) "
   ]
  },
  {
   "cell_type": "markdown",
   "id": "33ac38d9",
   "metadata": {},
   "source": [
    "### First derivatives"
   ]
  },
  {
   "cell_type": "code",
   "execution_count": 11,
   "id": "c3fdfcce",
   "metadata": {},
   "outputs": [],
   "source": [
    "dx1dt = smp.diff(x1, t)\n",
    "dy1dt = smp.diff(y1, t)\n",
    "\n",
    "dx2dt = smp.diff(x2, t)\n",
    "dy2dt = smp.diff(y2, t)\n",
    "\n",
    "dthe1dt = smp.diff(theta1, t)\n",
    "dthe2dt = smp.diff(theta2, t)"
   ]
  },
  {
   "cell_type": "markdown",
   "id": "ab973100",
   "metadata": {},
   "source": [
    "### Kinetic energy"
   ]
  },
  {
   "cell_type": "code",
   "execution_count": 12,
   "id": "e11143f2",
   "metadata": {},
   "outputs": [],
   "source": [
    "T1 = smp.Rational(1,2) * m1 * (dx1dt**2 + dy1dt**2)\n",
    "T2 = smp.Rational(1,2) * m2 * (dx2dt**2 + dy2dt**2)\n",
    "T = T1 + T2"
   ]
  },
  {
   "cell_type": "markdown",
   "id": "5802c5ec",
   "metadata": {},
   "source": [
    "### Potential energy"
   ]
  },
  {
   "cell_type": "code",
   "execution_count": 13,
   "id": "4e61c81f",
   "metadata": {},
   "outputs": [],
   "source": [
    "V1 = m1 * g * y1\n",
    "V2 = m2 * g * y2\n",
    "V = V1 + V2"
   ]
  },
  {
   "cell_type": "markdown",
   "id": "2ca4c00a",
   "metadata": {},
   "source": [
    "### Lagrangian"
   ]
  },
  {
   "cell_type": "code",
   "execution_count": 14,
   "id": "e7287341",
   "metadata": {},
   "outputs": [],
   "source": [
    "L = T - V "
   ]
  },
  {
   "cell_type": "markdown",
   "id": "51badd61",
   "metadata": {},
   "source": [
    "### And the Lagrange equations $\\frac{dL}{dq} - \\frac{d}{dt}\\frac{dL}{d\\dot{q}} = 0 $"
   ]
  },
  {
   "cell_type": "code",
   "execution_count": 15,
   "id": "fa0942a9",
   "metadata": {},
   "outputs": [],
   "source": [
    "LE1 = smp.diff(L, theta1) - smp.diff(smp.diff(L, dthe1dt), t) \n",
    "LE2 = smp.diff(L, theta2) - smp.diff(smp.diff(L, dthe2dt), t) "
   ]
  },
  {
   "cell_type": "markdown",
   "id": "996cdce7",
   "metadata": {},
   "source": [
    "# 2. Solution"
   ]
  },
  {
   "cell_type": "markdown",
   "id": "5357786b",
   "metadata": {},
   "source": [
    "### We solve the equations for $\\frac{d^2\\theta_{1}}{dt^2}$ and $\\frac{d^2\\theta_{2}}{dt^2}$ respectively"
   ]
  },
  {
   "cell_type": "code",
   "execution_count": 16,
   "id": "721c58c3",
   "metadata": {},
   "outputs": [],
   "source": [
    "sols = smp.solve([LE1, LE2], [smp.diff(dthe1dt, t), smp.diff(dthe2dt, t)])"
   ]
  },
  {
   "cell_type": "code",
   "execution_count": 17,
   "id": "a3087151",
   "metadata": {},
   "outputs": [
    {
     "data": {
      "text/latex": [
       "$\\displaystyle \\frac{R_{1} m_{2} \\sin{\\left(2 \\theta_{1}{\\left(t \\right)} - 2 \\theta_{2}{\\left(t \\right)} \\right)} \\left(\\frac{d}{d t} \\theta_{1}{\\left(t \\right)}\\right)^{2} + 2 R_{2} m_{2} \\sin{\\left(\\theta_{1}{\\left(t \\right)} - \\theta_{2}{\\left(t \\right)} \\right)} \\left(\\frac{d}{d t} \\theta_{2}{\\left(t \\right)}\\right)^{2} + 2 g m_{1} \\sin{\\left(\\theta_{1}{\\left(t \\right)} \\right)} + g m_{2} \\sin{\\left(\\theta_{1}{\\left(t \\right)} - 2 \\theta_{2}{\\left(t \\right)} \\right)} + g m_{2} \\sin{\\left(\\theta_{1}{\\left(t \\right)} \\right)}}{R_{1} \\left(- 2 m_{1} + m_{2} \\cos{\\left(2 \\theta_{1}{\\left(t \\right)} - 2 \\theta_{2}{\\left(t \\right)} \\right)} - m_{2}\\right)}$"
      ],
      "text/plain": [
       "(R_1*m_2*sin(2*\\theta_1(t) - 2*\\theta_2(t))*Derivative(\\theta_1(t), t)**2 + 2*R_2*m_2*sin(\\theta_1(t) - \\theta_2(t))*Derivative(\\theta_2(t), t)**2 + 2*g*m_1*sin(\\theta_1(t)) + g*m_2*sin(\\theta_1(t) - 2*\\theta_2(t)) + g*m_2*sin(\\theta_1(t)))/(R_1*(-2*m_1 + m_2*cos(2*\\theta_1(t) - 2*\\theta_2(t)) - m_2))"
      ]
     },
     "execution_count": 17,
     "metadata": {},
     "output_type": "execute_result"
    }
   ],
   "source": [
    "s1 = sols[smp.diff(dthe1dt, t)]\n",
    "s1.simplify()"
   ]
  },
  {
   "cell_type": "code",
   "execution_count": 18,
   "id": "6bf2717d",
   "metadata": {},
   "outputs": [
    {
     "data": {
      "text/latex": [
       "$\\displaystyle \\frac{- 2 R_{1} m_{1} \\sin{\\left(\\theta_{1}{\\left(t \\right)} - \\theta_{2}{\\left(t \\right)} \\right)} \\left(\\frac{d}{d t} \\theta_{1}{\\left(t \\right)}\\right)^{2} - 2 R_{1} m_{2} \\sin{\\left(\\theta_{1}{\\left(t \\right)} - \\theta_{2}{\\left(t \\right)} \\right)} \\left(\\frac{d}{d t} \\theta_{1}{\\left(t \\right)}\\right)^{2} - R_{2} m_{2} \\sin{\\left(2 \\theta_{1}{\\left(t \\right)} - 2 \\theta_{2}{\\left(t \\right)} \\right)} \\left(\\frac{d}{d t} \\theta_{2}{\\left(t \\right)}\\right)^{2} - g m_{1} \\sin{\\left(2 \\theta_{1}{\\left(t \\right)} - \\theta_{2}{\\left(t \\right)} \\right)} + g m_{1} \\sin{\\left(\\theta_{2}{\\left(t \\right)} \\right)} - g m_{2} \\sin{\\left(2 \\theta_{1}{\\left(t \\right)} - \\theta_{2}{\\left(t \\right)} \\right)} + g m_{2} \\sin{\\left(\\theta_{2}{\\left(t \\right)} \\right)}}{R_{2} \\left(- 2 m_{1} + m_{2} \\cos{\\left(2 \\theta_{1}{\\left(t \\right)} - 2 \\theta_{2}{\\left(t \\right)} \\right)} - m_{2}\\right)}$"
      ],
      "text/plain": [
       "(-2*R_1*m_1*sin(\\theta_1(t) - \\theta_2(t))*Derivative(\\theta_1(t), t)**2 - 2*R_1*m_2*sin(\\theta_1(t) - \\theta_2(t))*Derivative(\\theta_1(t), t)**2 - R_2*m_2*sin(2*\\theta_1(t) - 2*\\theta_2(t))*Derivative(\\theta_2(t), t)**2 - g*m_1*sin(2*\\theta_1(t) - \\theta_2(t)) + g*m_1*sin(\\theta_2(t)) - g*m_2*sin(2*\\theta_1(t) - \\theta_2(t)) + g*m_2*sin(\\theta_2(t)))/(R_2*(-2*m_1 + m_2*cos(2*\\theta_1(t) - 2*\\theta_2(t)) - m_2))"
      ]
     },
     "execution_count": 18,
     "metadata": {},
     "output_type": "execute_result"
    }
   ],
   "source": [
    "s2 = sols[smp.diff(dthe2dt, t)]\n",
    "s2.simplify()"
   ]
  },
  {
   "cell_type": "markdown",
   "id": "abf43b24",
   "metadata": {},
   "source": [
    "### We convert this second order system to a first order one numerically"
   ]
  },
  {
   "cell_type": "code",
   "execution_count": 19,
   "id": "97fe9dde",
   "metadata": {},
   "outputs": [],
   "source": [
    "domega1dt_n = smp.lambdify((t, g, R1, R2, m1, m2, theta1, theta2, dthe1dt, dthe2dt), s1)\n",
    "domega2dt_n = smp.lambdify((t, g, R1, R2, m1, m2, theta1, theta2, dthe1dt, dthe2dt), s2)\n",
    "omega1_n = smp.lambdify(dthe1dt, dthe1dt)\n",
    "omega2_n = smp.lambdify(dthe2dt, dthe2dt)"
   ]
  },
  {
   "cell_type": "markdown",
   "id": "04f4b090",
   "metadata": {},
   "source": [
    "### We solve the system of first order differential equations"
   ]
  },
  {
   "cell_type": "code",
   "execution_count": 20,
   "id": "1e23f1c3",
   "metadata": {},
   "outputs": [],
   "source": [
    "def dSdt(S, t, g, R1, R2, m1, m2):\n",
    "    theta1, omega1, theta2, omega2 = S\n",
    "    return [omega1_n(omega1),\n",
    "            domega1dt_n(t, g, R1, R2, m1, m2, theta1, theta2, omega1, omega2),\n",
    "            omega2_n(omega2),\n",
    "            domega2dt_n(t, g, R1, R2, m1, m2, theta1, theta2, omega1, omega2)\n",
    "           ]\n",
    "\n",
    "theta1_0 = 1\n",
    "omega1_0 = -3\n",
    "theta2_0 = -1\n",
    "omega2_0 = 5\n",
    "\n",
    "S_0 = (theta1_0, omega1_0, theta2_0, omega2_0)"
   ]
  },
  {
   "cell_type": "code",
   "execution_count": 21,
   "id": "47477d7d",
   "metadata": {},
   "outputs": [],
   "source": [
    "t = np.linspace(0, 40, 1001)\n",
    "R1 = 2\n",
    "R2 = 1\n",
    "m1 = 2\n",
    "m2 = 1\n",
    "g = 9.81\n",
    "\n",
    "SF = odeint(dSdt, S_0, t = t, args = (g, R1, R2, m1, m2))"
   ]
  },
  {
   "cell_type": "code",
   "execution_count": 22,
   "id": "9795d97a",
   "metadata": {},
   "outputs": [],
   "source": [
    "the1 = SF.T[0]\n",
    "the2 = SF.T[2]"
   ]
  },
  {
   "cell_type": "code",
   "execution_count": 23,
   "id": "63fb6dc0",
   "metadata": {},
   "outputs": [
    {
     "data": {
      "text/plain": [
       "[<matplotlib.lines.Line2D at 0x7fe64148d450>]"
      ]
     },
     "execution_count": 23,
     "metadata": {},
     "output_type": "execute_result"
    },
    {
     "data": {
      "image/png": "[encoded data removed]",
      "text/plain": [
       "<Figure size 640x480 with 1 Axes>"
      ]
     },
     "metadata": {},
     "output_type": "display_data"
    }
   ],
   "source": [
    "plt.plot(t, the1)"
   ]
  },
  {
   "cell_type": "code",
   "execution_count": 24,
   "id": "173d0e5a",
   "metadata": {},
   "outputs": [
    {
     "data": {
      "text/plain": [
       "[<matplotlib.lines.Line2D at 0x7fe641587dc0>]"
      ]
     },
     "execution_count": 24,
     "metadata": {},
     "output_type": "execute_result"
    },
    {
     "data": {
      "image/png": "[encoded data removed]",
      "text/plain": [
       "<Figure size 640x480 with 1 Axes>"
      ]
     },
     "metadata": {},
     "output_type": "display_data"
    }
   ],
   "source": [
    "plt.plot(t, the2)"
   ]
  },
  {
   "cell_type": "markdown",
   "id": "557f6089",
   "metadata": {},
   "source": [
    "# 3. Animation"
   ]
  },
  {
   "cell_type": "markdown",
   "id": "575818f1",
   "metadata": {},
   "source": [
    "### We have solved the equations of the angles for each pendulum so we obtain the positions $(x_{1}, y_{1}, x_{2}, y_{2})$ to locate them in a plane."
   ]
  },
  {
   "cell_type": "code",
   "execution_count": 37,
   "id": "cc5eecef",
   "metadata": {},
   "outputs": [],
   "source": [
    "def posicion(t, the1, the2, R1, R2):\n",
    "    return[R1 * np.sin(the1),\n",
    "           - R1 * np.cos(the1),\n",
    "           R1 * np.sin(the1) + R2 * np.sin(the2),\n",
    "           - R1 * np.cos(the1) - R2 * np.cos(the2)\n",
    "          ]\n",
    "\n",
    "x1, y1, x2, y2 = posicion(t, SF.T[0], SF.T[2], R1, R2)"
   ]
  },
  {
   "cell_type": "markdown",
   "id": "96a999f8",
   "metadata": {},
   "source": [
    "### Finally we animate the positions"
   ]
  },
  {
   "cell_type": "code",
   "execution_count": 39,
   "id": "2a378b60",
   "metadata": {},
   "outputs": [
    {
     "data": {
      "image/png": "[encoded data removed]",
      "text/plain": [
       "<Figure size 800x800 with 1 Axes>"
      ]
     },
     "metadata": {},
     "output_type": "display_data"
    }
   ],
   "source": [
    "def animacion(i):\n",
    "    ln1.set_data([0, x1[i], x2[i]],[0, y1[i], y2[i]])\n",
    "  \n",
    "fig, ax = plt.subplots(1, 1, figsize = (8,8))\n",
    "ax.get_xaxis().set_ticks([]) #to hide the axes\n",
    "ax.get_yaxis().set_ticks([]) #to hide the axes\n",
    "ln1, = plt.plot([], [], 'ro--', lw = 3, markersize = 8)\n",
    "ax.set_xlim(-4, 4)\n",
    "ax.set_ylim(-4, 4)\n",
    "ani = animation.FuncAnimation(fig, animacion, frames = 1000, interval = 50)\n",
    "ani.save('pendulum.gif', writer = 'pillow', fps = 25) #When choosing t we take len(t<1)=25"
   ]
  },
  {
   "cell_type": "code",
   "execution_count": null,
   "id": "00da88df",
   "metadata": {},
   "outputs": [],
   "source": []
  }
 ],
 "metadata": {
  "kernelspec": {
   "display_name": "Python 3 (ipykernel)",
   "language": "python",
   "name": "python3"
  },
  "language_info": {
   "codemirror_mode": {
    "name": "ipython",
    "version": 3
   },
   "file_extension": ".py",
   "mimetype": "text/x-python",
   "name": "python",
   "nbconvert_exporter": "python",
   "pygments_lexer": "ipython3",
   "version": "3.10.6"
  }
 },
 "nbformat": 4,
 "nbformat_minor": 5
}
